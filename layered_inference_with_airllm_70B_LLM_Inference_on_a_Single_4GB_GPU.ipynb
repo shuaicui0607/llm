{
 "cells": [
  {
   "cell_type": "code",
   "execution_count": null,
   "metadata": {},
   "outputs": [],
   "source": [
    "!pip install airllm\n",
    "\n",
    "from airllm import AutoModel\n",
    "\n",
    "MAX_LENGTH = 128\n",
    "\n",
    "model = AutoModel.from_pretrained(\"v2ray/Llama-3-70B\")\n",
    "\n",
    "input_text = [\n",
    "  'What is the meaning of Life?'\n",
    "]\n",
    "\n",
    "input_tokens = model.tokenizer(input_text,\n",
    "  return_tensors=\"pt\",\n",
    "  return_attention_mask=False,\n",
    "  truncation=True,\n",
    "  max_length=MAX_LENGTH,\n",
    "  padding=False)\n",
    "\n",
    "generation_output = model.generate(\n",
    "  input_tokens['input_ids'].cuda(),\n",
    "  max_new_tokens=20,\n",
    "  use_cache=True,\n",
    "  return_dict_in_generate=True)\n",
    "\n",
    "output = model.tokenizer.decode(generation_output.sequences[0])\n",
    "\n",
    "print(output)"
   ]
  },
  {
   "cell_type": "markdown",
   "metadata": {},
   "source": [
    "![](assets/2023-12-05-10-30-55.png)"
   ]
  }
 ],
 "metadata": {
  "kernelspec": {
   "display_name": "py10env",
   "language": "python",
   "name": "python3"
  },
  "language_info": {
   "codemirror_mode": {
    "name": "ipython",
    "version": 3
   },
   "file_extension": ".py",
   "mimetype": "text/x-python",
   "name": "python",
   "nbconvert_exporter": "python",
   "pygments_lexer": "ipython3",
   "version": "3.10.14"
  }
 },
 "nbformat": 4,
 "nbformat_minor": 2
}
